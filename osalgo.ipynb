{
 "cells": [
  {
   "cell_type": "code",
   "execution_count": 1,
   "id": "8f603707",
   "metadata": {},
   "outputs": [
    {
     "name": "stderr",
     "output_type": "stream",
     "text": [
      "Matplotlib is building the font cache; this may take a moment.\n"
     ]
    }
   ],
   "source": [
    "import random\n",
    "import pandas as pd\n",
    "from sklearn.model_selection import train_test_split\n",
    "from sklearn.ensemble import RandomForestClassifier\n",
    "from sklearn.preprocessing import LabelEncoder\n",
    "from sklearn.metrics import accuracy_score\n",
    "import joblib\n",
    "import matplotlib.pyplot as plt\n",
    "\n"
   ]
  },
  {
   "cell_type": "code",
   "execution_count": 2,
   "id": "4e9d4ad5",
   "metadata": {},
   "outputs": [],
   "source": [
    "#page replacement\n",
    "def fifo(pages, frames):\n",
    "    memory, faults = [], 0\n",
    "    for page in pages:\n",
    "        if page not in memory:\n",
    "            faults += 1\n",
    "            if len(memory) < frames:\n",
    "                memory.append(page)\n",
    "            else:\n",
    "                memory.pop(0)\n",
    "                memory.append(page)\n",
    "    return faults\n",
    "\n",
    "def lru(pages, frames):\n",
"    memory = []\n",
"    time = []  # keeps track of when each page was last used\n",
"    faults = 0\n",
"\n",
"    for i, page in enumerate(pages):\n",
"        # Case 1: Page is already in memory (HIT)\n",
"        if page in memory:\n",
"            idx = memory.index(page)\n",
"            time[idx] = i  # update last used time\n",
"        else:\n",
"            # Case 2: Page not in memory (FAULT)\n",
"            faults += 1\n",
"            if len(memory) < frames:\n",
"                # space available, just add it\n",
"                memory.append(page)\n",
"                time.append(i)\n",
"            else:\n",
"                # find least recently used page (smallest last-used time)\n",
"                lru_index = time.index(min(time))\n",
"                memory[lru_index] = page\n",
"                time[lru_index] = i\n",
"    return faults\n"
    "\n",
  "def optimal(pages, frames):\n",
"    memory, faults = [], 0\n",
"    for i, page in enumerate(pages):\n",
"        if page not in memory:\n",
"            faults += 1\n",
"            if len(memory) < frames:\n",
"                memory.append(page)\n",
"            else:\n",
"                future = pages[i+1:]\n",
"                farthest_index = -1\n",
"                page_to_remove = None\n",
"                for p in memory:\n",
"                    if p in future:\n",
"                        index = future.index(p)\n",
"                    else:\n",
"                        index = float('inf')\n",
"                    if index > farthest_index:\n",
"                        farthest_index = index\n",
"                        page_to_remove = p\n",
"                memory.remove(page_to_remove)\n",
"                memory.append(page)\n",
"    return faults\n"
   ]
  },
  {
   "cell_type": "code",
   "execution_count": 20,
   "id": "394d9e2d",
   "metadata": {},
   "outputs": [
    {
     "name": "stdout",
     "output_type": "stream",
     "text": [
      "✅ Dataset Created with Balanced Classes:\n",
      "best_algo\n",
      "Optimal    200\n",
      "FIFO       200\n",
      "LRU        200\n",
      "Name: count, dtype: int64\n"
     ]
    },
    {
     "data": {
      "text/html": [
       "<div>\n",
       "<style scoped>\n",
       "    .dataframe tbody tr th:only-of-type {\n",
       "        vertical-align: middle;\n",
       "    }\n",
       "\n",
       "    .dataframe tbody tr th {\n",
       "        vertical-align: top;\n",
       "    }\n",
       "\n",
       "    .dataframe thead th {\n",
       "        text-align: right;\n",
       "    }\n",
       "</style>\n",
       "<table border=\"1\" class=\"dataframe\">\n",
       "  <thead>\n",
       "    <tr style=\"text-align: right;\">\n",
       "      <th></th>\n",
       "      <th>num_pages</th>\n",
       "      <th>memory_size</th>\n",
       "      <th>locality</th>\n",
       "      <th>sequence_len</th>\n",
       "      <th>fifo_faults</th>\n",
       "      <th>lru_faults</th>\n",
       "      <th>optimal_faults</th>\n",
       "      <th>best_algo</th>\n",
       "    </tr>\n",
       "  </thead>\n",
       "  <tbody>\n",
       "    <tr>\n",
       "      <th>0</th>\n",
       "      <td>10</td>\n",
       "      <td>6</td>\n",
       "      <td>0.449813</td>\n",
       "      <td>74</td>\n",
       "      <td>21</td>\n",
       "      <td>30</td>\n",
       "      <td>14</td>\n",
       "      <td>Optimal</td>\n",
       "    </tr>\n",
       "    <tr>\n",
       "      <th>1</th>\n",
       "      <td>12</td>\n",
       "      <td>3</td>\n",
       "      <td>0.627999</td>\n",
       "      <td>65</td>\n",
       "      <td>26</td>\n",
       "      <td>38</td>\n",
       "      <td>21</td>\n",
       "      <td>Optimal</td>\n",
       "    </tr>\n",
       "    <tr>\n",
       "      <th>2</th>\n",
       "      <td>22</td>\n",
       "      <td>3</td>\n",
       "      <td>0.733899</td>\n",
       "      <td>50</td>\n",
       "      <td>17</td>\n",
       "      <td>35</td>\n",
       "      <td>12</td>\n",
       "      <td>Optimal</td>\n",
       "    </tr>\n",
       "    <tr>\n",
       "      <th>3</th>\n",
       "      <td>17</td>\n",
       "      <td>5</td>\n",
       "      <td>0.445196</td>\n",
       "      <td>74</td>\n",
       "      <td>33</td>\n",
       "      <td>40</td>\n",
       "      <td>23</td>\n",
       "      <td>Optimal</td>\n",
       "    </tr>\n",
       "    <tr>\n",
       "      <th>4</th>\n",
       "      <td>28</td>\n",
       "      <td>5</td>\n",
       "      <td>0.193529</td>\n",
       "      <td>77</td>\n",
       "      <td>50</td>\n",
       "      <td>66</td>\n",
       "      <td>38</td>\n",
       "      <td>Optimal</td>\n",
       "    </tr>\n",
       "  </tbody>\n",
       "</table>\n",
       "</div>"
      ],
      "text/plain": [
       "   num_pages  memory_size  locality  sequence_len  fifo_faults  lru_faults  \\\n",
       "0         10            6  0.449813            74           21          30   \n",
       "1         12            3  0.627999            65           26          38   \n",
       "2         22            3  0.733899            50           17          35   \n",
       "3         17            5  0.445196            74           33          40   \n",
       "4         28            5  0.193529            77           50          66   \n",
       "\n",
       "   optimal_faults best_algo  \n",
       "0              14   Optimal  \n",
       "1              21   Optimal  \n",
       "2              12   Optimal  \n",
       "3              23   Optimal  \n",
       "4              38   Optimal  "
      ]
     },
     "execution_count": 20,
     "metadata": {},
     "output_type": "execute_result"
    }
   ],
   "source": [
    "import random\n",
    "import pandas as pd\n",
    "\n",
    "def generate_sequence(n_pages, length, locality):\n",
    "    seq = []\n",
    "    for _ in range(length):\n",
    "        if random.random() < locality and seq:\n",
    "            seq.append(random.choice(seq[-5:]))  # reuse recent pages\n",
    "        else:\n",
    "            seq.append(random.randint(0, n_pages - 1))\n",
    "    return seq\n",
    "\n",
    "def fifo(pages, frames):\n",
    "    memory, faults = [], 0\n",
    "    for page in pages:\n",
    "        if page not in memory:\n",
    "            faults += 1\n",
    "            if len(memory) < frames:\n",
    "                memory.append(page)\n",
    "            else:\n",
    "                memory.pop(0)\n",
    "                memory.append(page)\n",
    "    return faults\n",
    "\n",
    "def lru(pages, frames):\n",
    "    memory, faults = [], 0\n",
    "    for i, page in enumerate(pages):\n",
    "        if page not in memory:\n",
    "            faults += 1\n",
    "            if len(memory) < frames:\n",
    "                memory.append(page)\n",
    "            else:\n",
    "                lru_page = min(memory, key=lambda p: pages[:i][::-1].index(p))\n",
    "                memory[memory.index(lru_page)] = page\n",
    "    return faults\n",
    "\n",
    "def optimal(pages, frames):\n",
    "    memory, faults = [], 0\n",
    "    for i, page in enumerate(pages):\n",
    "        if page not in memory:\n",
    "            faults += 1\n",
    "            if len(memory) < frames:\n",
    "                memory.append(page)\n",
    "            else:\n",
    "                future = pages[i+1:]\n",
    "                indices = [future.index(p) if p in future else float('inf') for p in memory]\n",
    "                memory.pop(indices.index(max(indices)))\n",
    "                memory.append(page)\n",
    "    return faults\n",
    "\n",
    "# --- Balanced Dataset Generation ---\n",
    "data = []\n",
    "target_counts = {\"FIFO\": 0, \"LRU\": 0, \"Optimal\": 0}\n",
    "target_each = 200  # total 600 samples (200 of each)\n",
    "\n",
    "while min(target_counts.values()) < target_each:\n",
    "    n_pages = random.randint(5, 30)\n",
    "    frames = random.randint(2, 10)\n",
    "    seq_len = random.randint(20, 100)\n",
    "    locality = random.uniform(0.1, 0.9)\n",
    "    seq = generate_sequence(n_pages, seq_len, locality)\n",
    "\n",
    "    f = fifo(seq, frames)\n",
    "    l = lru(seq, frames)\n",
    "    o = optimal(seq, frames)\n",
    "    best = min([(\"FIFO\", f), (\"LRU\", l), (\"Optimal\", o)], key=lambda x: x[1])[0]\n",
    "\n",
    "    # Only add if we still need more of that algorithm\n",
    "    if target_counts[best] < target_each:\n",
    "        data.append([n_pages, frames, locality, seq_len, f, l, o, best])\n",
    "        target_counts[best] += 1\n",
    "\n",
    "df = pd.DataFrame(data, columns=[\n",
    "    \"num_pages\", \"memory_size\", \"locality\", \"sequence_len\",\n",
    "    \"fifo_faults\", \"lru_faults\", \"optimal_faults\", \"best_algo\"\n",
    "])\n",
    "\n",
    "print(\"✅ Dataset Created with Balanced Classes:\")\n",
    "print(df[\"best_algo\"].value_counts())\n",
    "df.head()\n",
    "\n"
   ]
  },
  {
   "cell_type": "code",
   "execution_count": 24,
   "id": "898be017",
   "metadata": {},
   "outputs": [
    {
     "name": "stdout",
     "output_type": "stream",
     "text": [
      "✅ Model Accuracy: 0.6916666666666667\n",
      "✅ Model saved as best_algo_model.pkl\n"
     ]
    }
   ],
   "source": [
    "X = df[[\"num_pages\", \"memory_size\", \"locality\", \"sequence_len\"]]\n",
    "y = df[\"best_algo\"]\n",
    "\n",
    "le = LabelEncoder()\n",
    "y_encoded = le.fit_transform(y)\n",
    "\n",
    "X_train, X_test, y_train, y_test = train_test_split(X, y_encoded, test_size=0.2, random_state=42)\n",
    "model = RandomForestClassifier(n_estimators=100, random_state=42)\n",
    "model.fit(X_train, y_train)\n",
    "\n",
    "y_pred = model.predict(X_test)\n",
    "print(\"✅ Model Accuracy:\", accuracy_score(y_test, y_pred))\n",
    "\n",
    "joblib.dump(model, \"best_algo_model.pkl\")\n",
    "joblib.dump(le, \"label_encoder.pkl\")\n",
    "print(\"✅ Model saved as best_algo_model.pkl\")\n"
   ]
  },
  {
   "cell_type": "code",
   "execution_count": 27,
   "id": "f6c4ad81",
   "metadata": {},
   "outputs": [],
   "source": [
    "model = joblib.load(\"best_algo_model.pkl\")\n",
    "le = joblib.load(\"label_encoder.pkl\")\n",
    "\n",
    "\n"
   ]
  },
  {
   "cell_type": "code",
   "execution_count": 30,
   "id": "671e4cd1",
   "metadata": {},
   "outputs": [
    {
     "name": "stdout",
     "output_type": "stream",
     "text": [
      "🧠 Predicted Best Algorithm: Optimal\n"
     ]
    }
   ],
   "source": [
    "import pandas as pd\n",
    "\n",
    "# Direct input values\n",
    "num_pages = 20\n",
    "memory_size = 4\n",
    "locality = 0.6\n",
    "sequence_len = 80\n",
    "\n",
    "test_input = pd.DataFrame([[num_pages, memory_size, locality, sequence_len]],\n",
    "                          columns=[\"num_pages\", \"memory_size\", \"locality\", \"sequence_len\"])\n",
    "\n",
    "pred = model.predict(test_input)\n",
    "pred_algo = le.inverse_transform(pred)[0]\n",
    "\n",
    "print(\"🧠 Predicted Best Algorithm:\", pred_algo)"
   ]
  },
  {
   "cell_type": "code",
   "execution_count": 33,
   "id": "5849f91c",
   "metadata": {},
   "outputs": [
    {
     "data": {
      "image/png": "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",
      "text/plain": [
       "<Figure size 640x480 with 1 Axes>"
      ]
     },
     "metadata": {},
     "output_type": "display_data"
    }
   ],
   "source": [
    "df[\"best_algo\"].value_counts().plot(kind=\"bar\", color=[\"skyblue\",\"orange\",\"green\"])\n",
    "plt.title(\"Best Algorithm Distribution in Dataset\")\n",
    "plt.xlabel(\"Algorithm\")\n",
    "plt.ylabel(\"Count\")\n",
    "plt.show()\n"
   ]
  },
  {
   "cell_type": "code",
   "execution_count": 35,
   "id": "949e67f6",
   "metadata": {},
   "outputs": [
    {
     "data": {
      "application/vnd.jupyter.widget-view+json": {
       "model_id": "d94c8e75ebbb4c538e7f3751234a4318",
       "version_major": 2,
       "version_minor": 0
      },
      "text/plain": [
       "IntSlider(value=10, description='No. of Pages:', max=50, min=5)"
      ]
     },
     "metadata": {},
     "output_type": "display_data"
    },
    {
     "data": {
      "application/vnd.jupyter.widget-view+json": {
       "model_id": "73946baac4ca45938e01ee3d7d74cd85",
       "version_major": 2,
       "version_minor": 0
      },
      "text/plain": [
       "IntSlider(value=3, description='Frames:', max=10, min=2)"
      ]
     },
     "metadata": {},
     "output_type": "display_data"
    },
    {
     "data": {
      "application/vnd.jupyter.widget-view+json": {
       "model_id": "692f69b7c4d842dda4083fccd60daa75",
       "version_major": 2,
       "version_minor": 0
      },
      "text/plain": [
       "FloatSlider(value=0.5, description='Locality:', max=0.9, min=0.1)"
      ]
     },
     "metadata": {},
     "output_type": "display_data"
    },
    {
     "data": {
      "application/vnd.jupyter.widget-view+json": {
       "model_id": "82133bfd2faa4ca2b15c125833589050",
       "version_major": 2,
       "version_minor": 0
      },
      "text/plain": [
       "IntSlider(value=50, description='Seq Length:', max=200, min=10, step=10)"
      ]
     },
     "metadata": {},
     "output_type": "display_data"
    },
    {
     "data": {
      "application/vnd.jupyter.widget-view+json": {
       "model_id": "2002b0d01a3449dc95032a653aeb2755",
       "version_major": 2,
       "version_minor": 0
      },
      "text/plain": [
       "Button(button_style='success', description='Predict Best Algorithm', style=ButtonStyle())"
      ]
     },
     "metadata": {},
     "output_type": "display_data"
    },
    {
     "data": {
      "application/vnd.jupyter.widget-view+json": {
       "model_id": "0621c8e89de84bdd846b7c6becb38d04",
       "version_major": 2,
       "version_minor": 0
      },
      "text/plain": [
       "Output()"
      ]
     },
     "metadata": {},
     "output_type": "display_data"
    }
   ],
   "source": [
    "import ipywidgets as widgets\n",
    "from IPython.display import display, clear_output\n",
    "\n",
    "# Load the saved model and encoder\n",
    "model = joblib.load(\"best_algo_model.pkl\")\n",
    "le = joblib.load(\"label_encoder.pkl\")\n",
    "\n",
    "# Create input widgets\n",
    "num_pages = widgets.IntSlider(value=10, min=5, max=50, step=1, description=\"No. of Pages:\")\n",
    "memory_size = widgets.IntSlider(value=3, min=2, max=10, step=1, description=\"Frames:\")\n",
    "locality = widgets.FloatSlider(value=0.5, min=0.1, max=0.9, step=0.1, description=\"Locality:\")\n",
    "sequence_len = widgets.IntSlider(value=50, min=10, max=200, step=10, description=\"Seq Length:\")\n",
    "\n",
    "# Output area\n",
    "out = widgets.Output()\n",
    "\n",
    "def predict_algo(change):\n",
    "    with out:\n",
    "        clear_output()\n",
    "        test_input = [[num_pages.value, memory_size.value, locality.value, sequence_len.value]]\n",
    "        pred = model.predict(test_input)\n",
    "        pred_algo = le.inverse_transform(pred)[0]\n",
    "        print(f\"🧠 Predicted Best Algorithm: {pred_algo}\")\n",
    "\n",
    "# Button to trigger prediction\n",
    "button = widgets.Button(description=\"Predict Best Algorithm\", button_style='success')\n",
    "button.on_click(predict_algo)\n",
    "\n",
    "# Display everything\n",
    "display(num_pages, memory_size, locality, sequence_len, button, out)\n"
   ]
  }
 ],
 "metadata": {
  "kernelspec": {
   "display_name": "Python 3",
   "language": "python",
   "name": "python3"
  },
  "language_info": {
   "codemirror_mode": {
    "name": "ipython",
    "version": 3
   },
   "file_extension": ".py",
   "mimetype": "text/x-python",
   "name": "python",
   "nbconvert_exporter": "python",
   "pygments_lexer": "ipython3",
   "version": "3.12.4"
  }
 },
 "nbformat": 4,
 "nbformat_minor": 5
}
